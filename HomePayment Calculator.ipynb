{
 "cells": [
  {
   "cell_type": "code",
   "execution_count": 1,
   "metadata": {},
   "outputs": [],
   "source": [
    "import pandas as pd\n",
    "import numpy as np\n",
    "import requests\n",
    "from bs4 import BeautifulSoup as bs\n",
    "import json\n",
    "from random import randint\n",
    "from time import sleep\n",
    "from selenium import webdriver\n",
    "import os\n",
    "import datetime"
   ]
  },
  {
   "cell_type": "code",
   "execution_count": 2,
   "metadata": {},
   "outputs": [
    {
     "data": {
      "text/plain": [
       "0.0602"
      ]
     },
     "execution_count": 2,
     "metadata": {},
     "output_type": "execute_result"
    }
   ],
   "source": [
    "# Get current 30 Year fixed rate as of today\n",
    "url = 'https://www.mortgagenewsdaily.com/mortgage-rates/30-year-fixed'\n",
    "html = requests.get(url)\n",
    "soup = bs(html.text, 'html.parser')\n",
    "soup\n",
    "mortgageRate = soup.find('div', {'class': 'price'}).text\n",
    "rate = float(mortgageRate[0:4])\n",
    "mortgageRate = rate/100\n",
    "mortgageRate"
   ]
  },
  {
   "cell_type": "code",
   "execution_count": 9,
   "metadata": {},
   "outputs": [],
   "source": [
    "rentalData = pd.read_csv('sdRents.csv')\n",
    "homePriceData = pd.read_csv('redfin_2022-07-14-23-37-58.csv')"
   ]
  },
  {
   "cell_type": "code",
   "execution_count": 10,
   "metadata": {},
   "outputs": [],
   "source": [
    "bed = 1\n",
    "bath = 1\n",
    "\n",
    "                                     \n",
    "\n",
    "b_b = rentalData[(rentalData['Bedrooms'] == bed) & (rentalData['Bathrooms'] == bath)]\n",
    "benchmarkRentalRate = int(b_b['Price'].mean())\n",
    "HOA = int(homePriceData['HOA/MONTH'].mean())\n"
   ]
  },
  {
   "cell_type": "code",
   "execution_count": 11,
   "metadata": {},
   "outputs": [],
   "source": [
    "## Updating function to get home price to payment\n",
    "\n",
    "def paymentCalculator(homePrice, bed, bath, downPaymentPercentage, closingCostPercentage, loanPayments, propertyTaxRate, \n",
    "                      HOA, mortgageInsuranceRate, mortgageRate, areaRentalRate):\n",
    "    downPayment = homePrice*downPaymentPercentage\n",
    "    closingCosts = (homePrice-downPayment)*closingCostPercentage\n",
    "    Principal = (homePrice-downPayment)\n",
    "    propertyTax = (propertyTaxRate*homePrice)/12\n",
    "    monthlyMortgageRate = mortgageRate/12\n",
    "    monthlyMortgageRate_1 = monthlyMortgageRate+1 \n",
    "    loanPayments_1 = loanPayments-1\n",
    "    P_I = Principal*monthlyMortgageRate*monthlyMortgageRate_1**loanPayments/monthlyMortgageRate_1**loanPayments_1\n",
    "    mortgagePayment = P_I+propertyTax+HOA\n",
    "    if downPaymentPercentage <.20:\n",
    "        mortgageInsurance = (Principal * mortgageInsuranceRate)/12\n",
    "    else: \n",
    "        mortgageInsurance = 0\n",
    "    mortgagePayment = P_I+propertyTax+HOA+mortgageInsurance\n",
    "    yearlyCost = mortgagePayment*12\n",
    "    investmentCosts = {'HomePrice':[homePrice], 'bed':[bed], 'bath':[bath],'downPayment':[downPayment], 'closingCosts':[closingCosts], \n",
    "                   'mortgageRate':[mortgageRate], 'loanPayments':[loanPayments], 'Principal':[Principal], \n",
    "                   'propertyTax':[propertyTax], 'HOA':[HOA], 'P&I':[P_I], 'mortgageInsurance':[mortgageInsurance],\n",
    "                       'mortgagePayment':[mortgagePayment], 'yearlyCost':[yearlyCost],'benchmarkRate':[areaRentalRate]}\n",
    "    global df\n",
    "    df = pd.DataFrame(data=investmentCosts)\n",
    "    a = int(df['HomePrice']/df['mortgagePayment'])\n",
    "    if (mortgagePayment-areaRentalRate)>0:\n",
    "        print('Will not cash flow by $', (mortgagePayment-areaRentalRate))\n",
    "        print(\"$\", a, \"is the amount of home price per dollar of payment\")\n",
    "        print((areaRentalRate*a), \"is area rental rate home value break even\")\n",
    "    else:\n",
    "        print('Will cash flow $', ((mortgagePayment-areaRentalRate)*-1), 'monthly')\n",
    "        print('Will cash flow $', (((mortgagePayment-areaRentalRate)*12)*-1), 'yearly')\n",
    "        print(\"$\", a, \"is the amount of home price per rental dollar of mortgage payment\")\n",
    "        print((areaRentalRate * a), \"is area rental rate home value break even\")\n",
    "    return df"
   ]
  },
  {
   "cell_type": "code",
   "execution_count": 12,
   "metadata": {},
   "outputs": [
    {
     "name": "stdout",
     "output_type": "stream",
     "text": [
      "Will not cash flow by $ 64.55075111111091\n",
      "$ 164 is the amount of home price per dollar of payment\n",
      "367852 is area rental rate home value break even\n"
     ]
    },
    {
     "data": {
      "text/html": [
       "<div>\n",
       "<style scoped>\n",
       "    .dataframe tbody tr th:only-of-type {\n",
       "        vertical-align: middle;\n",
       "    }\n",
       "\n",
       "    .dataframe tbody tr th {\n",
       "        vertical-align: top;\n",
       "    }\n",
       "\n",
       "    .dataframe thead th {\n",
       "        text-align: right;\n",
       "    }\n",
       "</style>\n",
       "<table border=\"1\" class=\"dataframe\">\n",
       "  <thead>\n",
       "    <tr style=\"text-align: right;\">\n",
       "      <th></th>\n",
       "      <th>HomePrice</th>\n",
       "      <th>bed</th>\n",
       "      <th>bath</th>\n",
       "      <th>downPayment</th>\n",
       "      <th>closingCosts</th>\n",
       "      <th>mortgageRate</th>\n",
       "      <th>loanPayments</th>\n",
       "      <th>Principal</th>\n",
       "      <th>propertyTax</th>\n",
       "      <th>HOA</th>\n",
       "      <th>P&amp;I</th>\n",
       "      <th>mortgageInsurance</th>\n",
       "      <th>mortgagePayment</th>\n",
       "      <th>yearlyCost</th>\n",
       "      <th>benchmarkRate</th>\n",
       "    </tr>\n",
       "  </thead>\n",
       "  <tbody>\n",
       "    <tr>\n",
       "      <th>0</th>\n",
       "      <td>380000</td>\n",
       "      <td>1</td>\n",
       "      <td>1</td>\n",
       "      <td>76000.0</td>\n",
       "      <td>9120.0</td>\n",
       "      <td>0.0602</td>\n",
       "      <td>360</td>\n",
       "      <td>304000.0</td>\n",
       "      <td>395.833333</td>\n",
       "      <td>379</td>\n",
       "      <td>1532.717418</td>\n",
       "      <td>0</td>\n",
       "      <td>2307.550751</td>\n",
       "      <td>27690.609013</td>\n",
       "      <td>2243</td>\n",
       "    </tr>\n",
       "  </tbody>\n",
       "</table>\n",
       "</div>"
      ],
      "text/plain": [
       "   HomePrice  bed  bath  downPayment  closingCosts  mortgageRate  \\\n",
       "0     380000    1     1      76000.0        9120.0        0.0602   \n",
       "\n",
       "   loanPayments  Principal  propertyTax  HOA          P&I  mortgageInsurance  \\\n",
       "0           360   304000.0   395.833333  379  1532.717418                  0   \n",
       "\n",
       "   mortgagePayment    yearlyCost  benchmarkRate  \n",
       "0      2307.550751  27690.609013           2243  "
      ]
     },
     "execution_count": 12,
     "metadata": {},
     "output_type": "execute_result"
    }
   ],
   "source": [
    "paymentCalculator(380000,bed,bath,.20,.03,360,.0125,HOA,.02,mortgageRate, benchmarkRentalRate)"
   ]
  },
  {
   "cell_type": "code",
   "execution_count": 14,
   "metadata": {},
   "outputs": [
    {
     "name": "stdout",
     "output_type": "stream",
     "text": [
      "Will not cash flow by $ 3240.133555555555\n",
      "$ 182 is the amount of home price per dollar of payment\n",
      "408226 is area rental rate home value break even\n"
     ]
    },
    {
     "data": {
      "text/html": [
       "<div>\n",
       "<style scoped>\n",
       "    .dataframe tbody tr th:only-of-type {\n",
       "        vertical-align: middle;\n",
       "    }\n",
       "\n",
       "    .dataframe tbody tr th {\n",
       "        vertical-align: top;\n",
       "    }\n",
       "\n",
       "    .dataframe thead th {\n",
       "        text-align: right;\n",
       "    }\n",
       "</style>\n",
       "<table border=\"1\" class=\"dataframe\">\n",
       "  <thead>\n",
       "    <tr style=\"text-align: right;\">\n",
       "      <th></th>\n",
       "      <th>HomePrice</th>\n",
       "      <th>bed</th>\n",
       "      <th>bath</th>\n",
       "      <th>downPayment</th>\n",
       "      <th>closingCosts</th>\n",
       "      <th>mortgageRate</th>\n",
       "      <th>loanPayments</th>\n",
       "      <th>Principal</th>\n",
       "      <th>propertyTax</th>\n",
       "      <th>HOA</th>\n",
       "      <th>P&amp;I</th>\n",
       "      <th>mortgageInsurance</th>\n",
       "      <th>mortgagePayment</th>\n",
       "      <th>yearlyCost</th>\n",
       "      <th>benchmarkRate</th>\n",
       "    </tr>\n",
       "  </thead>\n",
       "  <tbody>\n",
       "    <tr>\n",
       "      <th>0</th>\n",
       "      <td>1000000</td>\n",
       "      <td>2</td>\n",
       "      <td>1</td>\n",
       "      <td>200000.0</td>\n",
       "      <td>24000.0</td>\n",
       "      <td>0.0602</td>\n",
       "      <td>360</td>\n",
       "      <td>800000.0</td>\n",
       "      <td>1041.666667</td>\n",
       "      <td>408</td>\n",
       "      <td>4033.466889</td>\n",
       "      <td>0</td>\n",
       "      <td>5483.133556</td>\n",
       "      <td>65797.602667</td>\n",
       "      <td>2243</td>\n",
       "    </tr>\n",
       "  </tbody>\n",
       "</table>\n",
       "</div>"
      ],
      "text/plain": [
       "   HomePrice  bed  bath  downPayment  closingCosts  mortgageRate  \\\n",
       "0    1000000    2     1     200000.0       24000.0        0.0602   \n",
       "\n",
       "   loanPayments  Principal  propertyTax  HOA          P&I  mortgageInsurance  \\\n",
       "0           360   800000.0  1041.666667  408  4033.466889                  0   \n",
       "\n",
       "   mortgagePayment    yearlyCost  benchmarkRate  \n",
       "0      5483.133556  65797.602667           2243  "
      ]
     },
     "execution_count": 14,
     "metadata": {},
     "output_type": "execute_result"
    }
   ],
   "source": [
    "def paymentCalculator(homePrice, bed, bath, downPaymentPercentage, closingCostPercentage, loanPayments, propertyTaxRate, \n",
    "                      HOA, mortgageInsuranceRate, mortgageRate, areaRentalRate):\n",
    "    downPayment = homePrice*downPaymentPercentage\n",
    "    closingCosts = (homePrice-downPayment)*closingCostPercentage\n",
    "    Principal = (homePrice-downPayment)\n",
    "    propertyTax = (propertyTaxRate*homePrice)/12\n",
    "    monthlyMortgageRate = mortgageRate/12\n",
    "    monthlyMortgageRate_1 = monthlyMortgageRate+1 \n",
    "    loanPayments_1 = loanPayments-1\n",
    "    P_I = Principal*monthlyMortgageRate*monthlyMortgageRate_1**loanPayments/monthlyMortgageRate_1**loanPayments_1\n",
    "    mortgagePayment = P_I+propertyTax+HOA\n",
    "    if downPaymentPercentage <.20:\n",
    "        mortgageInsurance = (Principal * mortgageInsuranceRate)/12\n",
    "    else: \n",
    "        mortgageInsurance = 0\n",
    "    mortgagePayment = P_I+propertyTax+HOA+mortgageInsurance\n",
    "    yearlyCost = mortgagePayment*12\n",
    "    investmentCosts = {'HomePrice':[homePrice], 'bed':[bed], 'bath':[bath],'downPayment':[downPayment], 'closingCosts':[closingCosts], \n",
    "                   'mortgageRate':[mortgageRate], 'loanPayments':[loanPayments], 'Principal':[Principal], \n",
    "                   'propertyTax':[propertyTax], 'HOA':[HOA], 'P&I':[P_I], 'mortgageInsurance':[mortgageInsurance],\n",
    "                       'mortgagePayment':[mortgagePayment], 'yearlyCost':[yearlyCost],'benchmarkRate':[areaRentalRate]}\n",
    "    global df\n",
    "    df = pd.DataFrame(data=investmentCosts)\n",
    "    a = int(df['HomePrice']/df['mortgagePayment'])\n",
    "    if (mortgagePayment-areaRentalRate)>0:\n",
    "        print('Will not cash flow by $', (mortgagePayment-areaRentalRate))\n",
    "        print(\"$\", a, \"is the amount of home price per dollar of payment\")\n",
    "        print((areaRentalRate*a), \"is area rental rate home value break even\")\n",
    "    else:\n",
    "        print('Will cash flow $', ((mortgagePayment-areaRentalRate)*-1), 'monthly')\n",
    "        print('Will cash flow $', (((mortgagePayment-areaRentalRate)*12)*-1), 'yearly')\n",
    "        print(\"$\", a, \"is the amount of home price per rental dollar of mortgage payment\")\n",
    "        print((areaRentalRate * a), \"is area rental rate home value break even\")\n",
    "    return df\n",
    "\n",
    "paymentCalculator(1000000,2,1,.20,.03,360,.0125,408,.02,mortgageRate, benchmarkRentalRate)"
   ]
  },
  {
   "cell_type": "code",
   "execution_count": null,
   "metadata": {},
   "outputs": [],
   "source": []
  }
 ],
 "metadata": {
  "kernelspec": {
   "display_name": "Python 3",
   "language": "python",
   "name": "python3"
  },
  "language_info": {
   "codemirror_mode": {
    "name": "ipython",
    "version": 3
   },
   "file_extension": ".py",
   "mimetype": "text/x-python",
   "name": "python",
   "nbconvert_exporter": "python",
   "pygments_lexer": "ipython3",
   "version": "3.7.2"
  }
 },
 "nbformat": 4,
 "nbformat_minor": 2
}
